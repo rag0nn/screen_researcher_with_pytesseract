{
 "cells": [
  {
   "cell_type": "code",
   "execution_count": 1,
   "id": "baea1183",
   "metadata": {},
   "outputs": [],
   "source": [
    "import sys\n",
    "\n",
    "from PyQt5.QtCore import QSize, Qt\n",
    "from PyQt5.QtWidgets import QWidget ,QApplication,QLabel,QMainWindow, QPushButton, QDesktopWidget, QVBoxLayout, QHBoxLayout\n",
    "from PyQt5.QtGui import QPixmap,QImage"
   ]
  },
  {
   "cell_type": "code",
   "execution_count": 2,
   "id": "f478a858",
   "metadata": {},
   "outputs": [],
   "source": [
    "from mss import mss\n",
    "import numpy as np\n",
    "from PIL import Image\n",
    "import cv2"
   ]
  },
  {
   "cell_type": "code",
   "execution_count": 3,
   "id": "8cbc511f",
   "metadata": {},
   "outputs": [],
   "source": [
    "class MainWindow(QMainWindow):\n",
    "    def __init__(self):\n",
    "        super().__init__()\n",
    "        \n",
    "        components = self.components()\n",
    "        \n",
    "        ##ana ekran özellikleri\n",
    "        desktop = QDesktopWidget()\n",
    "        screenWidth = desktop.screenGeometry().width()\n",
    "        screenHeight = desktop.screenGeometry().height()\n",
    "\n",
    "        self.setWindowTitle(\"Screen Researcher\")\n",
    "        self.setFixedSize(QSize(int(screenWidth /6),int(screenHeight*0.8)))\n",
    "        \n",
    "        widget = QWidget()\n",
    "        widget.setLayout(components)\n",
    "        self.setCentralWidget(widget)\n",
    "        \n",
    "    def take_picture(self):\n",
    "        mon = {\"top\" : 200,\"left\":0,\"width\":1200,\"height\":600}     #mon = sct.monitors[1]  \n",
    "        sct = mss()\n",
    "        im = sct.grab(mon)\n",
    "        im = Image.frombytes(\"RGB\",im.size,im.rgb)\n",
    "        im = np.array(im)\n",
    "        \n",
    "        # Resmi RGB formatına dönüştür\n",
    "        image_rgb = cv2.cvtColor(im, cv2.COLOR_BGR2RGB)\n",
    "        \n",
    "        # QImage oluştur\n",
    "        qimage = QImage(image_rgb, image_rgb.shape[1], image_rgb.shape[0], QImage.Format_RGB888)\n",
    "        \n",
    "        # QPixmap oluştur\n",
    "        pixmap = QPixmap.fromImage(qimage)\n",
    "        \n",
    "        # QLabel'e görseli ekle\n",
    "        self.lbl.setPixmap(pixmap)\n",
    "        return im\n",
    "    \n",
    "    def components(self):\n",
    "        main_layout = QVBoxLayout()\n",
    "        \n",
    "        h_layout1 = self.monitor_row()\n",
    "        h_layout2 = self.buttons_row()\n",
    "        \n",
    "        main_layout.addLayout(h_layout1)\n",
    "        main_layout.addLayout(h_layout2)\n",
    "        \n",
    "        return main_layout\n",
    "\n",
    "    def buttons_row(self):\n",
    "        h_layout = QHBoxLayout()\n",
    "        button1 = QPushButton(\"Çek\")\n",
    "        button1.clicked.connect(self.take_picture)\n",
    "        h_layout.addWidget(button1)\n",
    "        h_layout.addWidget(QPushButton(\"2\"))\n",
    "        return h_layout\n",
    "        \n",
    "    def monitor_row(self):\n",
    "        h_layout = QHBoxLayout()\n",
    "        \n",
    "        self.lbl= QLabel()\n",
    "        pixmap = QPixmap()\n",
    "        self.lbl.setPixmap(pixmap)\n",
    "        self.lbl.setFixedSize(200, 200)\n",
    "        h_layout.addWidget(self.lbl)\n",
    "        return h_layout\n",
    "        \n",
    "        \n"
   ]
  },
  {
   "cell_type": "code",
   "execution_count": null,
   "id": "96ec6609",
   "metadata": {},
   "outputs": [
    {
     "ename": "TypeError",
     "evalue": "width(self): too many arguments",
     "output_type": "error",
     "traceback": [
      "\u001b[1;31m---------------------------------------------------------------------------\u001b[0m",
      "\u001b[1;31mTypeError\u001b[0m                                 Traceback (most recent call last)",
      "Cell \u001b[1;32mIn[3], line 37\u001b[0m, in \u001b[0;36mMainWindow.take_picture\u001b[1;34m(self)\u001b[0m\n\u001b[0;32m     35\u001b[0m \u001b[38;5;66;03m# QLabel'e görseli ekle\u001b[39;00m\n\u001b[0;32m     36\u001b[0m \u001b[38;5;28mself\u001b[39m\u001b[38;5;241m.\u001b[39mlbl\u001b[38;5;241m.\u001b[39msetPixmap(pixmap)\n\u001b[1;32m---> 37\u001b[0m \u001b[38;5;28mself\u001b[39m\u001b[38;5;241m.\u001b[39mlbl\u001b[38;5;241m.\u001b[39mresize(\u001b[43mpixmap\u001b[49m\u001b[38;5;241;43m.\u001b[39;49m\u001b[43mwidth\u001b[49m\u001b[43m(\u001b[49m\u001b[38;5;241;43m100\u001b[39;49m\u001b[43m)\u001b[49m, pixmap\u001b[38;5;241m.\u001b[39mheight(\u001b[38;5;241m100\u001b[39m))\n\u001b[0;32m     38\u001b[0m \u001b[38;5;28;01mreturn\u001b[39;00m im\n",
      "\u001b[1;31mTypeError\u001b[0m: width(self): too many arguments"
     ]
    }
   ],
   "source": [
    "app = QApplication(sys.argv)\n",
    "\n",
    "window = MainWindow()\n",
    "window.show()\n",
    "\n",
    "app.exec()"
   ]
  },
  {
   "cell_type": "code",
   "execution_count": null,
   "id": "1976e18e",
   "metadata": {},
   "outputs": [],
   "source": []
  },
  {
   "cell_type": "code",
   "execution_count": null,
   "id": "7f615423",
   "metadata": {},
   "outputs": [],
   "source": []
  },
  {
   "cell_type": "code",
   "execution_count": null,
   "id": "4342b91d",
   "metadata": {},
   "outputs": [],
   "source": []
  },
  {
   "cell_type": "code",
   "execution_count": null,
   "id": "5560da6d",
   "metadata": {},
   "outputs": [],
   "source": []
  }
 ],
 "metadata": {
  "kernelspec": {
   "display_name": "Python 3 (ipykernel)",
   "language": "python",
   "name": "python3"
  },
  "language_info": {
   "codemirror_mode": {
    "name": "ipython",
    "version": 3
   },
   "file_extension": ".py",
   "mimetype": "text/x-python",
   "name": "python",
   "nbconvert_exporter": "python",
   "pygments_lexer": "ipython3",
   "version": "3.9.16"
  }
 },
 "nbformat": 4,
 "nbformat_minor": 5
}
