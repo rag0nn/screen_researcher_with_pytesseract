{
 "cells": [
  {
   "cell_type": "code",
   "execution_count": 1,
   "id": "124cc01b",
   "metadata": {},
   "outputs": [],
   "source": [
    "import pytesseract\n",
    "from PIL import Image\n",
    "import cv2\n",
    "import matplotlib.pyplot as plt"
   ]
  },
  {
   "cell_type": "code",
   "execution_count": 57,
   "id": "fa43c6ac",
   "metadata": {},
   "outputs": [],
   "source": [
    "image_paths = [\n",
    "    \"test_images/image1.png\",\n",
    "    \"test_images/image2.png\",\n",
    "    \"test_images/image3.jpg\",\n",
    "    \"test_images/image4.png\",\n",
    "    \"test_images/image5.png\",\n",
    "]"
   ]
  },
  {
   "cell_type": "code",
   "execution_count": 15,
   "id": "d1ff5f38",
   "metadata": {},
   "outputs": [],
   "source": [
    "# Kullanılacak Tesseract dosyası \n",
    "pytesseract.pytesseract.tesseract_cmd = r\"C:\\Program Files\\Tesseract-OCR\\tesseract.exe\""
   ]
  },
  {
   "cell_type": "code",
   "execution_count": 45,
   "id": "698faa0b",
   "metadata": {},
   "outputs": [],
   "source": [
    "# görseli içeri aktar\n",
    "def read_image(path):\n",
    "    im = cv2.imread(path)\n",
    "    im = cv2.cvtColor(im, cv2.COLOR_BGR2RGB)\n",
    "    return im\n",
    "\n",
    "# Görseli Göster\n",
    "def show_image(image):\n",
    "    plt.imshow(image)\n",
    "    cv2.imshow(\"q\",image)\n",
    "    cv2.waitKey(0)"
   ]
  },
  {
   "cell_type": "code",
   "execution_count": 85,
   "id": "b76b56bd",
   "metadata": {},
   "outputs": [],
   "source": [
    "def get_current_usable_langs():\n",
    "    \"\"\"\n",
    "    Kullanılabilen dillerinin kısaltmalarını döndürür.\n",
    "    \"\"\"\n",
    "    return pytesseract.get_languages(config='')"
   ]
  },
  {
   "cell_type": "code",
   "execution_count": 86,
   "id": "8f1f6075",
   "metadata": {},
   "outputs": [],
   "source": [
    "def image_texts(image_path:str):\n",
    "    \"\"\"\n",
    "    Bulunan her karakteri kutusuyla (bounding box ile) beraber döndürür.\n",
    "    \"\"\"\n",
    "\n",
    "    im = read_image(image_path)\n",
    "\n",
    "    texts = pytesseract.image_to_string(im,lang='tur')\n",
    "    print(texts)\n",
    "    show_image(im)\n",
    "    return texts"
   ]
  },
  {
   "cell_type": "code",
   "execution_count": 87,
   "id": "189242be",
   "metadata": {},
   "outputs": [],
   "source": [
    "def image_boxes(image_path:str):\n",
    "    \"\"\"\n",
    "    Bulunan her karakteri kutusuyla (bounding box ile) beraber döndürür.\n",
    "    \"\"\"\n",
    "\n",
    "    im = read_image(image_path)\n",
    "\n",
    "    boxes = pytesseract.image_to_boxes(im,lang='tur')\n",
    "    return boxes"
   ]
  },
  {
   "cell_type": "code",
   "execution_count": 88,
   "id": "490fab92",
   "metadata": {},
   "outputs": [],
   "source": [
    "def image_data(image_path:str):\n",
    "    \"\"\"\n",
    "    Görselden alınabilen tüm çıktılarını döndürür.\n",
    "    \"\"\"\n",
    "    im = read_image(image_path)\n",
    "    return pytesseract.image_to_data(im,lang='tur')"
   ]
  },
  {
   "cell_type": "code",
   "execution_count": 89,
   "id": "1e78e95f",
   "metadata": {},
   "outputs": [],
   "source": [
    "def image_osd(image_path):\n",
    "    \"\"\"\n",
    "    Görselin oryantasyonu ve yazı türü hakkında bilgileri döndürür.\n",
    "    \"\"\"\n",
    "    im = read_image(image_path)\n",
    "    return pytesseract.image_to_osd(im)"
   ]
  },
  {
   "cell_type": "code",
   "execution_count": 90,
   "id": "9694cc18",
   "metadata": {},
   "outputs": [],
   "source": [
    "def image_to_pdf(image_path):\n",
    "    \"\"\"\n",
    "    Görseli pdf' ye dönüştürür.\n",
    "    \n",
    "    pdf_outputs klasörüne kaydeder.\n",
    "    \"\"\"\n",
    "    im = read_image(image_path)\n",
    "    pdf = pytesseract.image_to_pdf_or_hocr(im,extension='pdf',lang='tur')\n",
    "    with open(f'pdf_outputs/{image_path.split(\"/\")[-1].split(\".\")[0]}.pdf',\"w+b\") as f:\n",
    "        f.write(pdf)"
   ]
  },
  {
   "cell_type": "markdown",
   "id": "e8186053",
   "metadata": {},
   "source": [
    "KULLANIM"
   ]
  },
  {
   "cell_type": "code",
   "execution_count": 103,
   "id": "a1d4aa5a",
   "metadata": {},
   "outputs": [
    {
     "name": "stdout",
     "output_type": "stream",
     "text": [
      "A 22 433 47 464 0\n"
     ]
    }
   ],
   "source": [
    "boxes = image_boxes(image_paths[0])\n",
    "boxes = boxes.split(\"\\n\")\n",
    "print(boxes[0])"
   ]
  },
  {
   "cell_type": "code",
   "execution_count": null,
   "id": "8874297c",
   "metadata": {},
   "outputs": [],
   "source": []
  }
 ],
 "metadata": {
  "kernelspec": {
   "display_name": "Python 3 (ipykernel)",
   "language": "python",
   "name": "python3"
  },
  "language_info": {
   "codemirror_mode": {
    "name": "ipython",
    "version": 3
   },
   "file_extension": ".py",
   "mimetype": "text/x-python",
   "name": "python",
   "nbconvert_exporter": "python",
   "pygments_lexer": "ipython3",
   "version": "3.9.16"
  }
 },
 "nbformat": 4,
 "nbformat_minor": 5
}
